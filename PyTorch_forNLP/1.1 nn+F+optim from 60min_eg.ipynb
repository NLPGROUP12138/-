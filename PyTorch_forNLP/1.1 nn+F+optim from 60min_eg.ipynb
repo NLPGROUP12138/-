{
 "cells": [
  {
   "cell_type": "markdown",
   "metadata": {},
   "source": [
    "## 1.构建网络 初探"
   ]
  },
  {
   "cell_type": "code",
   "execution_count": 1,
   "metadata": {
    "collapsed": true
   },
   "outputs": [],
   "source": [
    "import torch\n",
    "import torch.nn as nn\n",
    "import torch.nn.functional as F\n",
    "import torch.optim"
   ]
  },
  {
   "cell_type": "markdown",
   "metadata": {},
   "source": [
    "### 1.1构建模型"
   ]
  },
  {
   "cell_type": "code",
   "execution_count": 2,
   "metadata": {},
   "outputs": [
    {
     "data": {
      "text/plain": [
       "CNN(\n",
       "  (conv1): Conv2d(1, 6, kernel_size=(3, 3), stride=(1, 1))\n",
       "  (fc1): Linear(in_features=1350, out_features=10, bias=True)\n",
       ")"
      ]
     },
     "execution_count": 2,
     "metadata": {},
     "output_type": "execute_result"
    }
   ],
   "source": [
    "class CNN(nn.Module):\n",
    "    def __init__(self):\n",
    "        super(CNN, self).__init__()\n",
    "        self.conv1 = nn.Conv2d(1, 6, 3)#单通道、输出通道（叠几层）、卷积核大小\n",
    "        self.fc1 = nn.Linear(1350, 10)#in, out\n",
    "    \n",
    "    def forward(self, x):\n",
    "        #x: [1,1,32,32]\n",
    "        x = self.conv1(x) #[1,6,30,30]\n",
    "        x = F.relu(x)\n",
    "        x = F.max_pool2d(x, (2, 2)) #池化过程不用重叠[1,6,15,15]\n",
    "        x = F.relu(x)\n",
    "        x = x.view(x.size()[0], -1) #压到[1,1350]\n",
    "        x = self.fc1(x)\n",
    "        return x\n",
    "    \n",
    "model = CNN()\n",
    "model"
   ]
  },
  {
   "cell_type": "markdown",
   "metadata": {},
   "source": [
    "### 1.2查看模型"
   ]
  },
  {
   "cell_type": "markdown",
   "metadata": {},
   "source": [
    "模型的参数值，shape，grad"
   ]
  },
  {
   "cell_type": "code",
   "execution_count": 21,
   "metadata": {},
   "outputs": [
    {
     "name": "stdout",
     "output_type": "stream",
     "text": [
      "Conv2d(1, 6, kernel_size=(3, 3), stride=(1, 1)) \n",
      "\n",
      "torch.Size([6, 1, 3, 3])\n",
      "torch.Size([6])\n"
     ]
    },
    {
     "data": {
      "text/plain": [
       "tensor([ 1.2537,  0.0000,  0.1860,  0.0000, -0.6709,  0.8827])"
      ]
     },
     "execution_count": 21,
     "metadata": {},
     "output_type": "execute_result"
    }
   ],
   "source": [
    "print(model.conv1, '\\n')\n",
    "print(model.conv1.weight.shape) \n",
    "print(model.conv1.bias.shape)\n",
    "model.conv1.bias.grad"
   ]
  },
  {
   "cell_type": "code",
   "execution_count": 23,
   "metadata": {},
   "outputs": [
    {
     "name": "stdout",
     "output_type": "stream",
     "text": [
      "Linear(in_features=1350, out_features=10, bias=True) \n",
      "\n",
      "torch.Size([10, 1350])\n",
      "torch.Size([10])\n"
     ]
    }
   ],
   "source": [
    "print(model.fc1, '\\n')\n",
    "print(model.fc1.weight.shape) \n",
    "print(model.fc1.bias.shape)"
   ]
  },
  {
   "cell_type": "markdown",
   "metadata": {},
   "source": [
    "查看所有parameters"
   ]
  },
  {
   "cell_type": "code",
   "execution_count": 3,
   "metadata": {},
   "outputs": [
    {
     "name": "stdout",
     "output_type": "stream",
     "text": [
      "Parameter containing:\n",
      "tensor([[[[ 0.2295, -0.2769,  0.1879],\n",
      "          [-0.2160,  0.1160, -0.2031],\n",
      "          [ 0.1784,  0.1745, -0.2437]]],\n",
      "\n",
      "\n",
      "        [[[ 0.0662, -0.3169, -0.2802],\n",
      "          [ 0.1660, -0.0944, -0.1504],\n",
      "          [-0.1538, -0.3028,  0.0973]]],\n",
      "\n",
      "\n",
      "        [[[ 0.0037,  0.2246,  0.1134],\n",
      "          [-0.3086, -0.3174,  0.2631],\n",
      "          [ 0.0581,  0.1560,  0.0604]]],\n",
      "\n",
      "\n",
      "        [[[ 0.2531, -0.0741, -0.2685],\n",
      "          [-0.1918, -0.2093,  0.0591],\n",
      "          [-0.0220,  0.1060,  0.0461]]],\n",
      "\n",
      "\n",
      "        [[[ 0.2819,  0.2070, -0.3130],\n",
      "          [ 0.2241,  0.1345, -0.2879],\n",
      "          [ 0.1541,  0.0086,  0.3181]]],\n",
      "\n",
      "\n",
      "        [[[-0.1663, -0.0152,  0.2770],\n",
      "          [-0.2049,  0.2131, -0.2883],\n",
      "          [ 0.0913, -0.0793, -0.0869]]]], requires_grad=True)\n",
      "Parameter containing:\n",
      "tensor([ 0.2182, -0.0834,  0.0735, -0.2827,  0.1928,  0.0721],\n",
      "       requires_grad=True)\n",
      "Parameter containing:\n",
      "tensor([[-0.0009,  0.0145, -0.0236,  ..., -0.0229,  0.0258, -0.0006],\n",
      "        [ 0.0001,  0.0154, -0.0131,  ...,  0.0241,  0.0038, -0.0045],\n",
      "        [ 0.0057, -0.0121, -0.0141,  ...,  0.0154,  0.0060,  0.0153],\n",
      "        ...,\n",
      "        [-0.0071,  0.0082, -0.0205,  ...,  0.0014,  0.0147,  0.0109],\n",
      "        [-0.0272, -0.0226,  0.0250,  ..., -0.0180, -0.0216, -0.0157],\n",
      "        [ 0.0239,  0.0076, -0.0270,  ...,  0.0106, -0.0232,  0.0214]],\n",
      "       requires_grad=True)\n",
      "Parameter containing:\n",
      "tensor([ 0.0241, -0.0138, -0.0075,  0.0110,  0.0211, -0.0216, -0.0067,  0.0107,\n",
      "        -0.0143, -0.0049], requires_grad=True)\n"
     ]
    }
   ],
   "source": [
    "for param in model.parameters():\n",
    "    print(param)"
   ]
  },
  {
   "cell_type": "code",
   "execution_count": 4,
   "metadata": {},
   "outputs": [
    {
     "name": "stdout",
     "output_type": "stream",
     "text": [
      "conv1.weight : torch.Size([6, 1, 3, 3])\n",
      "conv1.bias : torch.Size([6])\n",
      "fc1.weight : torch.Size([10, 1350])\n",
      "fc1.bias : torch.Size([10])\n"
     ]
    }
   ],
   "source": [
    "for name,parameters in model.named_parameters():\n",
    "    print(name,':',parameters.size())"
   ]
  },
  {
   "cell_type": "markdown",
   "metadata": {},
   "source": [
    "### 1.3BP"
   ]
  },
  {
   "cell_type": "code",
   "execution_count": 5,
   "metadata": {},
   "outputs": [
    {
     "data": {
      "text/plain": [
       "torch.Size([1, 10])"
      ]
     },
     "execution_count": 5,
     "metadata": {},
     "output_type": "execute_result"
    }
   ],
   "source": [
    "x = torch.rand(1,1,32,32)\n",
    "y_pred = model(x)\n",
    "y_pred.size()"
   ]
  },
  {
   "cell_type": "code",
   "execution_count": 6,
   "metadata": {
    "collapsed": true
   },
   "outputs": [],
   "source": [
    "model.zero_grad()\n",
    "\n",
    "# y_pred.backward(torch.ones(y_pred.shape)) #传1进去，才能对向量backward\n",
    "\n",
    "# 但是其实y_pred本身进行BP没意义，我们要的是loss来BP\n",
    "# 或者 y_pred.mean().backward()"
   ]
  },
  {
   "cell_type": "code",
   "execution_count": 7,
   "metadata": {},
   "outputs": [
    {
     "data": {
      "text/plain": [
       "tensor(28.7616, grad_fn=<MeanBackward0>)"
      ]
     },
     "execution_count": 7,
     "metadata": {},
     "output_type": "execute_result"
    }
   ],
   "source": [
    "y_label = torch.arange(0,10).view(1,10).float()\n",
    "loss_fn = nn.MSELoss()\n",
    "loss = loss_fn(y_label, y_pred)\n",
    "loss"
   ]
  },
  {
   "cell_type": "code",
   "execution_count": 8,
   "metadata": {
    "collapsed": true
   },
   "outputs": [],
   "source": [
    "optim = torch.optim.SGD(model.parameters(), lr=0.001)\n",
    "optim.zero_grad()\n",
    "loss.backward()\n",
    "optim.step()"
   ]
  },
  {
   "cell_type": "markdown",
   "metadata": {},
   "source": [
    "## 2.实战：图像分类器"
   ]
  },
  {
   "cell_type": "code",
   "execution_count": 114,
   "metadata": {},
   "outputs": [
    {
     "name": "stdout",
     "output_type": "stream",
     "text": [
      "tensor([[0],\n",
      "        [1],\n",
      "        [0]], dtype=torch.uint8)\n",
      "torch.Size([3, 1])\n",
      "tensor([[[1.],\n",
      "         [0.],\n",
      "         [3.]]])\n",
      "torch.Size([1, 3, 1])\n"
     ]
    },
    {
     "data": {
      "text/plain": [
       "tensor([[[1., 1., 1., 1., 1.],\n",
       "         [0., 0., 0., 0., 0.],\n",
       "         [3., 3., 3., 3., 3.]],\n",
       "\n",
       "        [[1., 1., 1., 1., 1.],\n",
       "         [0., 0., 0., 0., 0.],\n",
       "         [3., 3., 3., 3., 3.]]])"
      ]
     },
     "execution_count": 114,
     "metadata": {},
     "output_type": "execute_result"
    }
   ],
   "source": [
    "a=torch.FloatTensor([[1],[0],[3]])\n",
    "b=torch.FloatTensor([[0],[2],[3]])\n",
    "print(a.eq(0))#找到等于0的 \n",
    "print(a.shape) \n",
    "\n",
    "print(a.unsqueeze(0))\n",
    "print(a.unsqueeze(0).shape)\n",
    "# print(a.unsqueeze(0).expand(2,3,2,1))\n",
    "a.unsqueeze(0).expand(2,3,5)#.shape"
   ]
  },
  {
   "cell_type": "code",
   "execution_count": 111,
   "metadata": {},
   "outputs": [
    {
     "data": {
      "text/plain": [
       "[1, 1, 1, 1, 1]"
      ]
     },
     "execution_count": 111,
     "metadata": {},
     "output_type": "execute_result"
    }
   ],
   "source": [
    "# [1 for _ in range(5)]\n",
    "[1]*5"
   ]
  },
  {
   "cell_type": "code",
   "execution_count": 112,
   "metadata": {},
   "outputs": [
    {
     "name": "stdout",
     "output_type": "stream",
     "text": [
      "tensor([[1.],\n",
      "        [2.],\n",
      "        [2.]]) \n",
      " torch.Size([3, 1])\n"
     ]
    },
    {
     "data": {
      "text/plain": [
       "tensor([[1., 1., 1.],\n",
       "        [2., 2., 2.],\n",
       "        [2., 2., 2.]])"
      ]
     },
     "execution_count": 112,
     "metadata": {},
     "output_type": "execute_result"
    }
   ],
   "source": [
    "x = torch.Tensor([[1], [2], [2]])\n",
    "print(x,'\\n',x.shape)\n",
    "x.expand(3, 3)#.shape"
   ]
  }
 ],
 "metadata": {
  "kernelspec": {
   "display_name": "Python [default]",
   "language": "python",
   "name": "python3"
  },
  "language_info": {
   "codemirror_mode": {
    "name": "ipython",
    "version": 3
   },
   "file_extension": ".py",
   "mimetype": "text/x-python",
   "name": "python",
   "nbconvert_exporter": "python",
   "pygments_lexer": "ipython3",
   "version": "3.6.3"
  }
 },
 "nbformat": 4,
 "nbformat_minor": 2
}
